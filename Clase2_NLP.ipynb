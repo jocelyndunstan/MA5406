{
  "nbformat": 4,
  "nbformat_minor": 0,
  "metadata": {
    "kernelspec": {
      "display_name": "Python 3",
      "language": "python",
      "name": "python3"
    },
    "language_info": {
      "codemirror_mode": {
        "name": "ipython",
        "version": 3
      },
      "file_extension": ".py",
      "mimetype": "text/x-python",
      "name": "python",
      "nbconvert_exporter": "python",
      "pygments_lexer": "ipython3",
      "version": "3.6.7"
    },
    "colab": {
      "name": "Clase5_2NLP.ipynb",
      "provenance": [],
      "include_colab_link": true
    }
  },
  "cells": [
    {
      "cell_type": "markdown",
      "metadata": {
        "id": "view-in-github",
        "colab_type": "text"
      },
      "source": [
        "<a href=\"https://colab.research.google.com/github/jocelyndunstan/MA5406/blob/main/Clase5_2NLP.ipynb\" target=\"_parent\"><img src=\"https://colab.research.google.com/assets/colab-badge.svg\" alt=\"Open In Colab\"/></a>"
      ]
    },
    {
      "cell_type": "markdown",
      "metadata": {
        "id": "npTSwFQeYFec"
      },
      "source": [
        "# Expresiones regulares"
      ]
    },
    {
      "cell_type": "code",
      "metadata": {
        "collapsed": true,
        "id": "2Mx8svKoYFet"
      },
      "source": [
        "import re"
      ],
      "execution_count": 2,
      "outputs": []
    },
    {
      "cell_type": "markdown",
      "metadata": {
        "id": "DK25yUktYFey"
      },
      "source": [
        "## Ejemplo 1"
      ]
    },
    {
      "cell_type": "code",
      "metadata": {
        "colab": {
          "base_uri": "https://localhost:8080/"
        },
        "id": "amXc2y2JYFez",
        "outputId": "695b6ae8-f0c6-4e08-c90c-7724eebcf492"
      },
      "source": [
        "text0 = '2019-03-21'\n",
        "text1 = '21-03-2019'\n",
        "m = re.search(r'\\d{4}-\\d{2}-\\d{2}', text0)\n",
        "bool(m)"
      ],
      "execution_count": 3,
      "outputs": [
        {
          "output_type": "execute_result",
          "data": {
            "text/plain": [
              "True"
            ]
          },
          "metadata": {
            "tags": []
          },
          "execution_count": 3
        }
      ]
    },
    {
      "cell_type": "code",
      "metadata": {
        "colab": {
          "base_uri": "https://localhost:8080/",
          "height": 35
        },
        "id": "j-5sGrdbYFfM",
        "outputId": "2d0b50d4-c2cb-45a2-a19f-ff7175fb1d3d"
      },
      "source": [
        "sentence = 'la fecha de hoy es 2019-03-21-5'\n",
        "m = re.search(r'(\\d{4}-\\d{2}-\\d{2})', sentence)\n",
        "m.group(1)"
      ],
      "execution_count": 4,
      "outputs": [
        {
          "output_type": "execute_result",
          "data": {
            "application/vnd.google.colaboratory.intrinsic+json": {
              "type": "string"
            },
            "text/plain": [
              "'2019-03-21'"
            ]
          },
          "metadata": {
            "tags": []
          },
          "execution_count": 4
        }
      ]
    },
    {
      "cell_type": "code",
      "metadata": {
        "colab": {
          "base_uri": "https://localhost:8080/"
        },
        "id": "rIBiQRMeYFfN",
        "outputId": "cc7179c0-9010-441d-b1a2-c7cbd87a6050"
      },
      "source": [
        "sentence = 'la fecha de hoy es 2019-03-21 y es dia jueves y hace calor'\n",
        "m = re.search(r'(\\d{4}-\\d{2}-\\d{2}).*dia (\\w+)', sentence)\n",
        "print('fecha: %s' % m.group(1))\n",
        "print('dia: %s' % m.group(2))"
      ],
      "execution_count": 5,
      "outputs": [
        {
          "output_type": "stream",
          "text": [
            "fecha: 2019-03-21\n",
            "dia: jueves\n"
          ],
          "name": "stdout"
        }
      ]
    },
    {
      "cell_type": "code",
      "metadata": {
        "colab": {
          "base_uri": "https://localhost:8080/"
        },
        "id": "uqQ1CkSNYFfN",
        "outputId": "5d308c9f-be76-42ac-d7ea-2fa956bb8e74"
      },
      "source": [
        "sentence = '''\n",
        "la fecha de hoy es 2019-03-21 y es dia jueves\n",
        "la fecha de hoy es 2019-03-21 y estamos a viernes\n",
        "la fecha de hoy es 2019-03-24 y es dia sabado\n",
        "'''\n",
        "matches = re.finditer(r'(\\d{4}-\\d{2}-\\d{2}).*dia (\\w+)', sentence, re.MULTILINE)\n",
        "for match in matches:\n",
        "    print('fecha: %s, dia: %s' % (match.group(1), match.group(2)))\n",
        "    #print(match)"
      ],
      "execution_count": 6,
      "outputs": [
        {
          "output_type": "stream",
          "text": [
            "fecha: 2019-03-21, dia: jueves\n",
            "fecha: 2019-03-24, dia: sabado\n"
          ],
          "name": "stdout"
        }
      ]
    },
    {
      "cell_type": "code",
      "metadata": {
        "colab": {
          "base_uri": "https://localhost:8080/"
        },
        "id": "xHqeqcFlYFfO",
        "outputId": "53842275-ae5c-4100-980c-647a384a95c0"
      },
      "source": [
        "sentence = '''\n",
        "la fecha de hoy es 2019-03-21 y es dia jueves\n",
        "la fecha de hoy es 2019-03-21 y estamos a  viernes santo\n",
        "la fecha de hoy es 2019-03-24 y es dia sabado\n",
        "'''\n",
        "matches = re.finditer(r'(\\d{4}-\\d{2}-\\d{2}).* (\\w+)$', sentence, re.MULTILINE)\n",
        "for match in matches:\n",
        "    print('fecha: %s, dia: %s' % (match.group(1), match.group(2)))\n",
        "    #print(match)"
      ],
      "execution_count": 7,
      "outputs": [
        {
          "output_type": "stream",
          "text": [
            "fecha: 2019-03-21, dia: jueves\n",
            "fecha: 2019-03-21, dia: santo\n",
            "fecha: 2019-03-24, dia: sabado\n"
          ],
          "name": "stdout"
        }
      ]
    },
    {
      "cell_type": "markdown",
      "metadata": {
        "id": "etuk4f2HYFfO"
      },
      "source": [
        "www.regex101.com es una super ayuda! "
      ]
    },
    {
      "cell_type": "markdown",
      "metadata": {
        "id": "kTkBOsB9YFfO"
      },
      "source": [
        "![Titulo](regex2.png)"
      ]
    },
    {
      "cell_type": "markdown",
      "metadata": {
        "id": "ntgLij2aYFfU"
      },
      "source": [
        "## Ejemplo 2"
      ]
    },
    {
      "cell_type": "code",
      "metadata": {
        "collapsed": true,
        "id": "3lH3WcjCYFfX"
      },
      "source": [
        "info = '''\n",
        "RUN 15872789-5 y fecha de nacimiento 26/12/1985\n",
        "'''"
      ],
      "execution_count": 8,
      "outputs": []
    },
    {
      "cell_type": "code",
      "metadata": {
        "colab": {
          "base_uri": "https://localhost:8080/"
        },
        "id": "u2Xa-7WhYFfX",
        "outputId": "41c59bda-8f18-406a-cde9-ddd2410ad4fe"
      },
      "source": [
        "matches = re.finditer(r'(\\d+)', info, re.MULTILINE)\n",
        "for match in matches:\n",
        "    print('rut: %s' % match.group(1))"
      ],
      "execution_count": 9,
      "outputs": [
        {
          "output_type": "stream",
          "text": [
            "rut: 15872789\n",
            "rut: 5\n",
            "rut: 26\n",
            "rut: 12\n",
            "rut: 1985\n"
          ],
          "name": "stdout"
        }
      ]
    },
    {
      "cell_type": "code",
      "metadata": {
        "colab": {
          "base_uri": "https://localhost:8080/"
        },
        "id": "NFTEM6FCYFfY",
        "outputId": "b668c612-6bd8-4f4c-f554-09197806d73e"
      },
      "source": [
        "matches = re.finditer(r'(\\d{8})-(\\d)', info, re.MULTILINE)\n",
        "for match in matches:\n",
        "    print('rut: %s, digito verificador: %s' % (match.group(1), match.group(2)))"
      ],
      "execution_count": 10,
      "outputs": [
        {
          "output_type": "stream",
          "text": [
            "rut: 15872789, digito verificador: 5\n"
          ],
          "name": "stdout"
        }
      ]
    },
    {
      "cell_type": "code",
      "metadata": {
        "collapsed": true,
        "id": "SqgtvQg_YFfY"
      },
      "source": [
        "info = '''\n",
        "Mi RUN 15872789-5 y fecha de nacimiento 26/12/1985\n",
        "y el de mi mama es 9672455-4\n",
        "'''"
      ],
      "execution_count": 11,
      "outputs": []
    },
    {
      "cell_type": "code",
      "metadata": {
        "colab": {
          "base_uri": "https://localhost:8080/"
        },
        "id": "9f72ayrPYFfa",
        "outputId": "16b77d97-0f81-4d92-fabc-9c124986b0bf"
      },
      "source": [
        "matches = re.finditer(r'(\\d{8}|\\d{7})-(\\d)', info, re.MULTILINE)\n",
        "for match in matches:\n",
        "    print('rut: %s, digito verificador: %s' % (match.group(1), match.group(2)))"
      ],
      "execution_count": 12,
      "outputs": [
        {
          "output_type": "stream",
          "text": [
            "rut: 15872789, digito verificador: 5\n",
            "rut: 9672455, digito verificador: 4\n"
          ],
          "name": "stdout"
        }
      ]
    },
    {
      "cell_type": "markdown",
      "metadata": {
        "id": "9VPl0OdUYFfa"
      },
      "source": [
        "## Ejemplo 3"
      ]
    },
    {
      "cell_type": "code",
      "metadata": {
        "collapsed": true,
        "id": "Y9dnF6LNYFfa"
      },
      "source": [
        "texto = \"el papa del Papa se llama Francisco\""
      ],
      "execution_count": 13,
      "outputs": []
    },
    {
      "cell_type": "code",
      "metadata": {
        "colab": {
          "base_uri": "https://localhost:8080/"
        },
        "id": "NNj5ox1XYFfb",
        "outputId": "aea6b3c8-d13d-4f6c-b990-27d80e8bb640"
      },
      "source": [
        "matches = re.finditer(r'papa', texto)\n",
        "#bool(matches)\n",
        "for match in matches:\n",
        "    print(match.group())"
      ],
      "execution_count": 14,
      "outputs": [
        {
          "output_type": "stream",
          "text": [
            "papa\n"
          ],
          "name": "stdout"
        }
      ]
    },
    {
      "cell_type": "code",
      "metadata": {
        "colab": {
          "base_uri": "https://localhost:8080/"
        },
        "id": "b0i1Ec1vYFfc",
        "outputId": "fd9ed3ee-9a5e-44ae-ab1c-89f085caf348"
      },
      "source": [
        "matches = re.finditer(r'papa', texto, re.IGNORECASE)\n",
        "#bool(matches)\n",
        "for match in matches:\n",
        "    print(match.group())"
      ],
      "execution_count": 15,
      "outputs": [
        {
          "output_type": "stream",
          "text": [
            "papa\n",
            "Papa\n"
          ],
          "name": "stdout"
        }
      ]
    },
    {
      "cell_type": "markdown",
      "metadata": {
        "id": "03sKBbhHYFfc"
      },
      "source": [
        "## Ejemplo 4"
      ]
    },
    {
      "cell_type": "markdown",
      "metadata": {
        "id": "iz-eyE0JYFfc"
      },
      "source": [
        "Cuando se quiere buscar la palabra psoriasis (pero que podría estar mal escrita) y se recorre un dataframe de Pandas:"
      ]
    },
    {
      "cell_type": "markdown",
      "metadata": {
        "id": "R5XrWBHoYFfd"
      },
      "source": [
        "pattern = r'p?soriasis'\n",
        "\n",
        "psoriasis = consolidated[consolidated.SOSPECHA_DIAG.str.contains(pattern, case=False)]\n",
        "print(psoriasis.shape)"
      ]
    },
    {
      "cell_type": "markdown",
      "metadata": {
        "id": "WutWsjMMYFfd"
      },
      "source": [
        "## Ejemplo 5: invéntenlo ustedes!"
      ]
    },
    {
      "cell_type": "markdown",
      "metadata": {
        "id": "zzaZfKxfYFfd"
      },
      "source": [
        "# Pre-procesamiento standard"
      ]
    },
    {
      "cell_type": "markdown",
      "metadata": {
        "id": "CNdJ77hlZCdd"
      },
      "source": [
        ""
      ]
    },
    {
      "cell_type": "code",
      "metadata": {
        "collapsed": true,
        "colab": {
          "base_uri": "https://localhost:8080/",
          "height": 368
        },
        "id": "WedAC30EYFfe",
        "outputId": "7ca2e6ff-8c2a-4083-b153-4d23bc136989"
      },
      "source": [
        "import nltk\n",
        "from nltk.tokenize import word_tokenize\n",
        "from unidecode import unidecode"
      ],
      "execution_count": 18,
      "outputs": [
        {
          "output_type": "stream",
          "text": [
            "[nltk_data] Error loading word_tokenize: Package 'word_tokenize' not\n",
            "[nltk_data]     found in index\n"
          ],
          "name": "stdout"
        },
        {
          "output_type": "error",
          "ename": "ModuleNotFoundError",
          "evalue": "ignored",
          "traceback": [
            "\u001b[0;31m---------------------------------------------------------------------------\u001b[0m",
            "\u001b[0;31mModuleNotFoundError\u001b[0m                       Traceback (most recent call last)",
            "\u001b[0;32m<ipython-input-18-54710c4e9ef3>\u001b[0m in \u001b[0;36m<module>\u001b[0;34m()\u001b[0m\n\u001b[1;32m      2\u001b[0m \u001b[0mnltk\u001b[0m\u001b[0;34m.\u001b[0m\u001b[0mdownload\u001b[0m\u001b[0;34m(\u001b[0m\u001b[0;34m'word_tokenize'\u001b[0m\u001b[0;34m)\u001b[0m\u001b[0;34m\u001b[0m\u001b[0;34m\u001b[0m\u001b[0m\n\u001b[1;32m      3\u001b[0m \u001b[0;32mfrom\u001b[0m \u001b[0mnltk\u001b[0m\u001b[0;34m.\u001b[0m\u001b[0mtokenize\u001b[0m \u001b[0;32mimport\u001b[0m \u001b[0mword_tokenize\u001b[0m\u001b[0;34m\u001b[0m\u001b[0;34m\u001b[0m\u001b[0m\n\u001b[0;32m----> 4\u001b[0;31m \u001b[0;32mfrom\u001b[0m \u001b[0munidecode\u001b[0m \u001b[0;32mimport\u001b[0m \u001b[0munidecode\u001b[0m\u001b[0;34m\u001b[0m\u001b[0;34m\u001b[0m\u001b[0m\n\u001b[0m",
            "\u001b[0;31mModuleNotFoundError\u001b[0m: No module named 'unidecode'",
            "",
            "\u001b[0;31m---------------------------------------------------------------------------\u001b[0;32m\nNOTE: If your import is failing due to a missing package, you can\nmanually install dependencies using either !pip or !apt.\n\nTo view examples of installing some common dependencies, click the\n\"Open Examples\" button below.\n\u001b[0;31m---------------------------------------------------------------------------\u001b[0m\n"
          ]
        }
      ]
    },
    {
      "cell_type": "markdown",
      "metadata": {
        "id": "eeul2XwhYFfe"
      },
      "source": [
        "Leo un dictamen que fue scaneado y luego procesado con OCR"
      ]
    },
    {
      "cell_type": "code",
      "metadata": {
        "collapsed": true,
        "colab": {
          "base_uri": "https://localhost:8080/",
          "height": 215
        },
        "id": "fBY3IKXcYFfe",
        "outputId": "7c537d7c-36ae-4628-e7e4-f1f9c4aeef9a"
      },
      "source": [
        "https://raw.githubusercontent.com/jocelyndunstan/MA5406/main/dictamen.txt\n",
        "\n",
        "\n",
        "\n",
        "#f = open('dictamen.txt')\n",
        "f = open('dictamen.txt', encoding=\"ISO-8859-1\")\n",
        "raw = f.read()\n",
        "f.close()"
      ],
      "execution_count": 17,
      "outputs": [
        {
          "output_type": "error",
          "ename": "FileNotFoundError",
          "evalue": "ignored",
          "traceback": [
            "\u001b[0;31m---------------------------------------------------------------------------\u001b[0m",
            "\u001b[0;31mFileNotFoundError\u001b[0m                         Traceback (most recent call last)",
            "\u001b[0;32m<ipython-input-17-f5d89bbd2a2b>\u001b[0m in \u001b[0;36m<module>\u001b[0;34m()\u001b[0m\n\u001b[1;32m      1\u001b[0m \u001b[0;31m#f = open('dictamen.txt')\u001b[0m\u001b[0;34m\u001b[0m\u001b[0;34m\u001b[0m\u001b[0;34m\u001b[0m\u001b[0m\n\u001b[0;32m----> 2\u001b[0;31m \u001b[0mf\u001b[0m \u001b[0;34m=\u001b[0m \u001b[0mopen\u001b[0m\u001b[0;34m(\u001b[0m\u001b[0;34m'dictamen.txt'\u001b[0m\u001b[0;34m,\u001b[0m \u001b[0mencoding\u001b[0m\u001b[0;34m=\u001b[0m\u001b[0;34m\"ISO-8859-1\"\u001b[0m\u001b[0;34m)\u001b[0m\u001b[0;34m\u001b[0m\u001b[0;34m\u001b[0m\u001b[0m\n\u001b[0m\u001b[1;32m      3\u001b[0m \u001b[0mraw\u001b[0m \u001b[0;34m=\u001b[0m \u001b[0mf\u001b[0m\u001b[0;34m.\u001b[0m\u001b[0mread\u001b[0m\u001b[0;34m(\u001b[0m\u001b[0;34m)\u001b[0m\u001b[0;34m\u001b[0m\u001b[0;34m\u001b[0m\u001b[0m\n\u001b[1;32m      4\u001b[0m \u001b[0mf\u001b[0m\u001b[0;34m.\u001b[0m\u001b[0mclose\u001b[0m\u001b[0;34m(\u001b[0m\u001b[0;34m)\u001b[0m\u001b[0;34m\u001b[0m\u001b[0;34m\u001b[0m\u001b[0m\n",
            "\u001b[0;31mFileNotFoundError\u001b[0m: [Errno 2] No such file or directory: 'dictamen.txt'"
          ]
        }
      ]
    },
    {
      "cell_type": "code",
      "metadata": {
        "id": "FFGebNRcYFff",
        "outputId": "82f6a703-a593-4f16-89d8-39363d2395a3"
      },
      "source": [
        "raw"
      ],
      "execution_count": null,
      "outputs": [
        {
          "output_type": "execute_result",
          "data": {
            "text/plain": [
              "'SUPCJ~Tl!~liEKfl,\\\\ \\nVAL01r;$ YSEGl.l:ltU~ \\n1\\nOFORD.: N\"6887 \\nOficio N\"2162, de 26/01/2011, de la !\\nAn ecedentes .: Superintendencia de Pensiones. \\ni \\nInstruye reincorporación de beneficiaria ¿pensión\\nMateria.: de sobrevivencia. SGD.: N\"2011030043591 Santiago, 1Ode Marzo de 2011 \\nDe: SuperintendenJia de Valores y Seguros \\nA : ~~;~~~~~~~ .\\nSEGUROS DE VIDA S. EL BOSQUE NORTE 0125 LAS CONDES fcomuna: SANTIAGO -Ciudad: SANTIAGO -Reg. Me rrolitana \\n----------IT__________ --------1 \\ni \\nSe ha recibido el oficio del antecedente, el cual se ~djuntu, en que la Superintendencia de Pensiones señal~ que la AFP I-labitat y esa aseg~radora incurrieron en un errbr ~l eliminar de la póliza de renta vitalicia previsiona.lld,el Sr.\\x95.:.-. \\xadl f·--~ -\\n.a lalbefieficiaria de pensión de sobrevivencia, Sra . ,__ ~· _.. :; ·..i· _. . ._ \\n. i . y (iue en consecuencia ésta debb ser restituida en calidad de beneficiaria como Madr~ de Hijo de \\nFiliación no fyfatri onial debido a que su matrirnbnib fue declarado nulo por sentencia ejecutoriada de fecfi~ 25/08/1995, \\naprobada el JS/0~/1996, con fecha de Subinsdripbión 17/05/1996, situación anterior a la aplicación Id~ la Ley de \\nMatrimonio C\\x95. ivil, Ley 19.947. 1 i . ! \\n.¡.· \\n\\' 1 \\' 1 \" \\nPor tratarse de un tene!icio contemplado en la LFy.!esa asegura~ora deberá reincorporar de inmediato al~ ~eneficiaria a Ja póliza de ~nt~ yitalicia en calidad de Madre ~e ijijo de Filia9ión no Matrimonial, sin hijos con derecho ~ pensión, en \\nlos mismos térm,inr que figuraba en la póliza ºjri~irl. ! i ! \\nP_or su pl.lrte.\\' \\x95\\x95\\x95 \\x95.\\n,.¡ta.p,\\x95·, e?.sión del afiliado no podrá. ser m.:c.;nor a la esta\\x95,blecida originalmente en la póliza,. ni podr.¡á.jscr objeto de \\n1\\nO.Justes de n1r¡.gun tipo por lo pagado en exceso. ¡ 1 : i \\nEn un plazo de ci~co días hábiles contados a p lr le la recepción de este oficio, esa compañia deberá enJij, una carta al afiliado comÜniCando la restitución de la beneficiarla en calidad de Madre de !-lijo de Filiación no Matrirtiohial, sin hijos\\n1\\ncon derecho ~p~n~ión, indicando además el morito de pensión a pagar, junto con explicarle qué sucedió eti ~ste caso. \\nJunto con la ex~JLción de lo acontecido en est~ caso como respuesta al presente oficio, esa compañía Llen\\\\ adjuntar copia de la e rt, tviada al rentista. 11 . ! \\nLa respuestJ al :oficio debe ser realizada a más tdrdar el : 17/03/2011 \\n1 r 1 1\\nSaluda atentamente a Usted. \\' \\n~~~~t\\'rni\\\\.S~IUÑOZ .c~:po~~RDEND s&1i:~ENTE \\nArchivo anexo \\ni\\'lf -sGd20i 1010019192 \\n\\n.ifT \\'\"~\\' \\x95 =\\'\"\\'\"\"\"\"~=\"\\'\"\"\\'º\"fil\\n.,.,\\x95\\x95\"\\'\"\" \\n--···· ,1·1 1 \\n1 · . :::..:·.,. ·\\xad\\n\\n'"
            ]
          },
          "metadata": {
            "tags": []
          },
          "execution_count": 28
        }
      ]
    },
    {
      "cell_type": "markdown",
      "metadata": {
        "id": "zFJ2YckcYFfg"
      },
      "source": [
        "El enconding suele ser un dolor de cabeza! No tengo un conocimiento acabado, y a continuación sólo muestro dos ejemplos de cómo he agregado libros con distintos formatos:\n",
        "\n",
        "corpus_raw = u\"\"\n",
        "\n",
        "for book_filename in book_filenames:\n",
        "    with codecs.open(book_filename, 'r','iso-8859-1') as book_file:\n",
        "        corpus_raw += book_file.read()\n",
        "\n",
        "with codecs.open(\"RAE/dict.txt\", 'r','utf-8') as book_file:\n",
        "        corpus_raw += book_file.read()"
      ]
    },
    {
      "cell_type": "markdown",
      "metadata": {
        "id": "CqAWweckYFfg"
      },
      "source": [
        "### Separo el texto en palabras, las paso a minusculas, y reemplazo todos los caracteres no-alfabeticos dentro de las palabras\n"
      ]
    },
    {
      "cell_type": "code",
      "metadata": {
        "collapsed": true,
        "id": "69FiZljVYFfg"
      },
      "source": [
        "v1 = nltk.word_tokenize(raw)\n",
        "v2 = [w.lower() for w in v1]\n",
        "v22 = []\n",
        "for word in v2:\n",
        "    word = re.sub('[^A-Za-z]', '', word)\n",
        "    if len(word) == 0:\n",
        "        pass\n",
        "    else:\n",
        "        v22.append(word)"
      ],
      "execution_count": null,
      "outputs": []
    },
    {
      "cell_type": "code",
      "metadata": {
        "id": "lpPggpWoYFfg",
        "outputId": "052be440-cb22-43c3-b899-169d487ad4da"
      },
      "source": [
        "v22"
      ],
      "execution_count": null,
      "outputs": [
        {
          "output_type": "execute_result",
          "data": {
            "text/plain": [
              "['supcjtl',\n",
              " 'liekfl',\n",
              " 'valr',\n",
              " 'ysegll',\n",
              " 'ltu',\n",
              " 'oford',\n",
              " 'n',\n",
              " 'oficio',\n",
              " 'n',\n",
              " 'de',\n",
              " 'de',\n",
              " 'la',\n",
              " 'an',\n",
              " 'ecedentes',\n",
              " 'superintendencia',\n",
              " 'de',\n",
              " 'pensiones',\n",
              " 'i',\n",
              " 'instruye',\n",
              " 'reincorporacin',\n",
              " 'de',\n",
              " 'beneficiaria',\n",
              " 'pensin',\n",
              " 'materia',\n",
              " 'de',\n",
              " 'sobrevivencia',\n",
              " 'sgd',\n",
              " 'n',\n",
              " 'santiago',\n",
              " 'ode',\n",
              " 'marzo',\n",
              " 'de',\n",
              " 'de',\n",
              " 'superintendenjia',\n",
              " 'de',\n",
              " 'valores',\n",
              " 'y',\n",
              " 'seguros',\n",
              " 'a',\n",
              " 'seguros',\n",
              " 'de',\n",
              " 'vida',\n",
              " 's',\n",
              " 'el',\n",
              " 'bosque',\n",
              " 'norte',\n",
              " 'las',\n",
              " 'condes',\n",
              " 'fcomuna',\n",
              " 'santiago',\n",
              " 'ciudad',\n",
              " 'santiago',\n",
              " 'reg',\n",
              " 'me',\n",
              " 'rrolitana',\n",
              " 'it',\n",
              " 'i',\n",
              " 'se',\n",
              " 'ha',\n",
              " 'recibido',\n",
              " 'el',\n",
              " 'oficio',\n",
              " 'del',\n",
              " 'antecedente',\n",
              " 'el',\n",
              " 'cual',\n",
              " 'se',\n",
              " 'djuntu',\n",
              " 'en',\n",
              " 'que',\n",
              " 'la',\n",
              " 'superintendencia',\n",
              " 'de',\n",
              " 'pensiones',\n",
              " 'seal',\n",
              " 'que',\n",
              " 'la',\n",
              " 'afp',\n",
              " 'ilabitat',\n",
              " 'y',\n",
              " 'esa',\n",
              " 'asegradora',\n",
              " 'incurrieron',\n",
              " 'en',\n",
              " 'un',\n",
              " 'errbr',\n",
              " 'l',\n",
              " 'eliminar',\n",
              " 'de',\n",
              " 'la',\n",
              " 'pliza',\n",
              " 'de',\n",
              " 'renta',\n",
              " 'vitalicia',\n",
              " 'previsionalld',\n",
              " 'el',\n",
              " 'sr',\n",
              " 'l',\n",
              " 'f',\n",
              " 'a',\n",
              " 'lalbefieficiaria',\n",
              " 'de',\n",
              " 'pensin',\n",
              " 'de',\n",
              " 'sobrevivencia',\n",
              " 'sra',\n",
              " 'i',\n",
              " 'i',\n",
              " 'y',\n",
              " 'iue',\n",
              " 'en',\n",
              " 'consecuencia',\n",
              " 'sta',\n",
              " 'debb',\n",
              " 'ser',\n",
              " 'restituida',\n",
              " 'en',\n",
              " 'calidad',\n",
              " 'de',\n",
              " 'beneficiaria',\n",
              " 'como',\n",
              " 'madr',\n",
              " 'de',\n",
              " 'hijo',\n",
              " 'de',\n",
              " 'filiacin',\n",
              " 'no',\n",
              " 'fyfatri',\n",
              " 'onial',\n",
              " 'debido',\n",
              " 'a',\n",
              " 'que',\n",
              " 'su',\n",
              " 'matrirnbnib',\n",
              " 'fue',\n",
              " 'declarado',\n",
              " 'nulo',\n",
              " 'por',\n",
              " 'sentencia',\n",
              " 'ejecutoriada',\n",
              " 'de',\n",
              " 'fecfi',\n",
              " 'aprobada',\n",
              " 'el',\n",
              " 'js',\n",
              " 'con',\n",
              " 'fecha',\n",
              " 'de',\n",
              " 'subinsdripbin',\n",
              " 'situacin',\n",
              " 'anterior',\n",
              " 'a',\n",
              " 'la',\n",
              " 'aplicacin',\n",
              " 'id',\n",
              " 'la',\n",
              " 'ley',\n",
              " 'de',\n",
              " 'matrimonio',\n",
              " 'c',\n",
              " 'ivil',\n",
              " 'ley',\n",
              " 'i',\n",
              " 'por',\n",
              " 'tratarse',\n",
              " 'de',\n",
              " 'un',\n",
              " 'tene',\n",
              " 'icio',\n",
              " 'contemplado',\n",
              " 'en',\n",
              " 'la',\n",
              " 'lfy',\n",
              " 'esa',\n",
              " 'aseguraora',\n",
              " 'deber',\n",
              " 'reincorporar',\n",
              " 'de',\n",
              " 'inmediato',\n",
              " 'al',\n",
              " 'eneficiaria',\n",
              " 'a',\n",
              " 'ja',\n",
              " 'pliza',\n",
              " 'de',\n",
              " 'nt',\n",
              " 'yitalicia',\n",
              " 'en',\n",
              " 'calidad',\n",
              " 'de',\n",
              " 'madre',\n",
              " 'e',\n",
              " 'ijijo',\n",
              " 'de',\n",
              " 'filiain',\n",
              " 'no',\n",
              " 'matrimonial',\n",
              " 'sin',\n",
              " 'hijos',\n",
              " 'con',\n",
              " 'derecho',\n",
              " 'pensin',\n",
              " 'en',\n",
              " 'los',\n",
              " 'mismos',\n",
              " 'trm',\n",
              " 'inr',\n",
              " 'que',\n",
              " 'figuraba',\n",
              " 'en',\n",
              " 'la',\n",
              " 'pliza',\n",
              " 'jriirl',\n",
              " 'i',\n",
              " 'por',\n",
              " 'su',\n",
              " 'pllrte',\n",
              " 'tap',\n",
              " 'e',\n",
              " 'sin',\n",
              " 'del',\n",
              " 'afiliado',\n",
              " 'no',\n",
              " 'podr',\n",
              " 'ser',\n",
              " 'm',\n",
              " 'c',\n",
              " 'nor',\n",
              " 'a',\n",
              " 'la',\n",
              " 'esta',\n",
              " 'blecida',\n",
              " 'originalmente',\n",
              " 'en',\n",
              " 'la',\n",
              " 'pliza',\n",
              " 'ni',\n",
              " 'podrjscr',\n",
              " 'objeto',\n",
              " 'de',\n",
              " 'ojustes',\n",
              " 'de',\n",
              " 'nrgun',\n",
              " 'tipo',\n",
              " 'por',\n",
              " 'lo',\n",
              " 'pagado',\n",
              " 'en',\n",
              " 'exceso',\n",
              " 'i',\n",
              " 'en',\n",
              " 'un',\n",
              " 'plazo',\n",
              " 'de',\n",
              " 'cico',\n",
              " 'das',\n",
              " 'hbiles',\n",
              " 'contados',\n",
              " 'a',\n",
              " 'p',\n",
              " 'lr',\n",
              " 'le',\n",
              " 'la',\n",
              " 'recepcin',\n",
              " 'de',\n",
              " 'este',\n",
              " 'oficio',\n",
              " 'esa',\n",
              " 'compaia',\n",
              " 'deber',\n",
              " 'enjij',\n",
              " 'una',\n",
              " 'carta',\n",
              " 'al',\n",
              " 'afiliado',\n",
              " 'comnicando',\n",
              " 'la',\n",
              " 'restitucin',\n",
              " 'de',\n",
              " 'la',\n",
              " 'beneficiarla',\n",
              " 'en',\n",
              " 'calidad',\n",
              " 'de',\n",
              " 'madre',\n",
              " 'de',\n",
              " 'lijo',\n",
              " 'de',\n",
              " 'filiacin',\n",
              " 'no',\n",
              " 'matrirtiohial',\n",
              " 'sin',\n",
              " 'hijos',\n",
              " 'con',\n",
              " 'derecho',\n",
              " 'pnin',\n",
              " 'indicando',\n",
              " 'adems',\n",
              " 'el',\n",
              " 'morito',\n",
              " 'de',\n",
              " 'pensin',\n",
              " 'a',\n",
              " 'pagar',\n",
              " 'junto',\n",
              " 'con',\n",
              " 'explicarle',\n",
              " 'qu',\n",
              " 'sucedi',\n",
              " 'eti',\n",
              " 'ste',\n",
              " 'caso',\n",
              " 'junto',\n",
              " 'con',\n",
              " 'la',\n",
              " 'exjlcin',\n",
              " 'de',\n",
              " 'lo',\n",
              " 'acontecido',\n",
              " 'en',\n",
              " 'est',\n",
              " 'caso',\n",
              " 'como',\n",
              " 'respuesta',\n",
              " 'al',\n",
              " 'presente',\n",
              " 'oficio',\n",
              " 'esa',\n",
              " 'compaa',\n",
              " 'llen',\n",
              " 'adjuntar',\n",
              " 'copia',\n",
              " 'de',\n",
              " 'la',\n",
              " 'e',\n",
              " 'rt',\n",
              " 'tviada',\n",
              " 'al',\n",
              " 'rentista',\n",
              " 'la',\n",
              " 'respuestj',\n",
              " 'al',\n",
              " 'oficio',\n",
              " 'debe',\n",
              " 'ser',\n",
              " 'realizada',\n",
              " 'a',\n",
              " 'ms',\n",
              " 'tdrdar',\n",
              " 'el',\n",
              " 'r',\n",
              " 'saluda',\n",
              " 'atentamente',\n",
              " 'a',\n",
              " 'usted',\n",
              " 'trnisiuoz',\n",
              " 'c',\n",
              " 'pordend',\n",
              " 's',\n",
              " 'i',\n",
              " 'ente',\n",
              " 'archivo',\n",
              " 'anexo',\n",
              " 'ilf',\n",
              " 'sgdi',\n",
              " 'ift',\n",
              " 'fil']"
            ]
          },
          "metadata": {
            "tags": []
          },
          "execution_count": 30
        }
      ]
    },
    {
      "cell_type": "markdown",
      "metadata": {
        "id": "_trK0wsyYFfh"
      },
      "source": [
        "Podría querer sacar tildes"
      ]
    },
    {
      "cell_type": "code",
      "metadata": {
        "scrolled": true,
        "id": "2SatppCMYFfh",
        "outputId": "094981a6-6cc6-44cc-9b44-3692154f724c"
      },
      "source": [
        "v3 = []\n",
        "for i in range(len(v22)): \n",
        "    v3.append(unidecode(v22[i]))\n",
        "v3 "
      ],
      "execution_count": null,
      "outputs": [
        {
          "output_type": "execute_result",
          "data": {
            "text/plain": [
              "['supcjtl',\n",
              " 'liekfl',\n",
              " 'valr',\n",
              " 'ysegll',\n",
              " 'ltu',\n",
              " 'oford',\n",
              " 'n',\n",
              " 'oficio',\n",
              " 'n',\n",
              " 'de',\n",
              " 'de',\n",
              " 'la',\n",
              " 'an',\n",
              " 'ecedentes',\n",
              " 'superintendencia',\n",
              " 'de',\n",
              " 'pensiones',\n",
              " 'i',\n",
              " 'instruye',\n",
              " 'reincorporacin',\n",
              " 'de',\n",
              " 'beneficiaria',\n",
              " 'pensin',\n",
              " 'materia',\n",
              " 'de',\n",
              " 'sobrevivencia',\n",
              " 'sgd',\n",
              " 'n',\n",
              " 'santiago',\n",
              " 'ode',\n",
              " 'marzo',\n",
              " 'de',\n",
              " 'de',\n",
              " 'superintendenjia',\n",
              " 'de',\n",
              " 'valores',\n",
              " 'y',\n",
              " 'seguros',\n",
              " 'a',\n",
              " 'seguros',\n",
              " 'de',\n",
              " 'vida',\n",
              " 's',\n",
              " 'el',\n",
              " 'bosque',\n",
              " 'norte',\n",
              " 'las',\n",
              " 'condes',\n",
              " 'fcomuna',\n",
              " 'santiago',\n",
              " 'ciudad',\n",
              " 'santiago',\n",
              " 'reg',\n",
              " 'me',\n",
              " 'rrolitana',\n",
              " 'it',\n",
              " 'i',\n",
              " 'se',\n",
              " 'ha',\n",
              " 'recibido',\n",
              " 'el',\n",
              " 'oficio',\n",
              " 'del',\n",
              " 'antecedente',\n",
              " 'el',\n",
              " 'cual',\n",
              " 'se',\n",
              " 'djuntu',\n",
              " 'en',\n",
              " 'que',\n",
              " 'la',\n",
              " 'superintendencia',\n",
              " 'de',\n",
              " 'pensiones',\n",
              " 'seal',\n",
              " 'que',\n",
              " 'la',\n",
              " 'afp',\n",
              " 'ilabitat',\n",
              " 'y',\n",
              " 'esa',\n",
              " 'asegradora',\n",
              " 'incurrieron',\n",
              " 'en',\n",
              " 'un',\n",
              " 'errbr',\n",
              " 'l',\n",
              " 'eliminar',\n",
              " 'de',\n",
              " 'la',\n",
              " 'pliza',\n",
              " 'de',\n",
              " 'renta',\n",
              " 'vitalicia',\n",
              " 'previsionalld',\n",
              " 'el',\n",
              " 'sr',\n",
              " 'l',\n",
              " 'f',\n",
              " 'a',\n",
              " 'lalbefieficiaria',\n",
              " 'de',\n",
              " 'pensin',\n",
              " 'de',\n",
              " 'sobrevivencia',\n",
              " 'sra',\n",
              " 'i',\n",
              " 'i',\n",
              " 'y',\n",
              " 'iue',\n",
              " 'en',\n",
              " 'consecuencia',\n",
              " 'sta',\n",
              " 'debb',\n",
              " 'ser',\n",
              " 'restituida',\n",
              " 'en',\n",
              " 'calidad',\n",
              " 'de',\n",
              " 'beneficiaria',\n",
              " 'como',\n",
              " 'madr',\n",
              " 'de',\n",
              " 'hijo',\n",
              " 'de',\n",
              " 'filiacin',\n",
              " 'no',\n",
              " 'fyfatri',\n",
              " 'onial',\n",
              " 'debido',\n",
              " 'a',\n",
              " 'que',\n",
              " 'su',\n",
              " 'matrirnbnib',\n",
              " 'fue',\n",
              " 'declarado',\n",
              " 'nulo',\n",
              " 'por',\n",
              " 'sentencia',\n",
              " 'ejecutoriada',\n",
              " 'de',\n",
              " 'fecfi',\n",
              " 'aprobada',\n",
              " 'el',\n",
              " 'js',\n",
              " 'con',\n",
              " 'fecha',\n",
              " 'de',\n",
              " 'subinsdripbin',\n",
              " 'situacin',\n",
              " 'anterior',\n",
              " 'a',\n",
              " 'la',\n",
              " 'aplicacin',\n",
              " 'id',\n",
              " 'la',\n",
              " 'ley',\n",
              " 'de',\n",
              " 'matrimonio',\n",
              " 'c',\n",
              " 'ivil',\n",
              " 'ley',\n",
              " 'i',\n",
              " 'por',\n",
              " 'tratarse',\n",
              " 'de',\n",
              " 'un',\n",
              " 'tene',\n",
              " 'icio',\n",
              " 'contemplado',\n",
              " 'en',\n",
              " 'la',\n",
              " 'lfy',\n",
              " 'esa',\n",
              " 'aseguraora',\n",
              " 'deber',\n",
              " 'reincorporar',\n",
              " 'de',\n",
              " 'inmediato',\n",
              " 'al',\n",
              " 'eneficiaria',\n",
              " 'a',\n",
              " 'ja',\n",
              " 'pliza',\n",
              " 'de',\n",
              " 'nt',\n",
              " 'yitalicia',\n",
              " 'en',\n",
              " 'calidad',\n",
              " 'de',\n",
              " 'madre',\n",
              " 'e',\n",
              " 'ijijo',\n",
              " 'de',\n",
              " 'filiain',\n",
              " 'no',\n",
              " 'matrimonial',\n",
              " 'sin',\n",
              " 'hijos',\n",
              " 'con',\n",
              " 'derecho',\n",
              " 'pensin',\n",
              " 'en',\n",
              " 'los',\n",
              " 'mismos',\n",
              " 'trm',\n",
              " 'inr',\n",
              " 'que',\n",
              " 'figuraba',\n",
              " 'en',\n",
              " 'la',\n",
              " 'pliza',\n",
              " 'jriirl',\n",
              " 'i',\n",
              " 'por',\n",
              " 'su',\n",
              " 'pllrte',\n",
              " 'tap',\n",
              " 'e',\n",
              " 'sin',\n",
              " 'del',\n",
              " 'afiliado',\n",
              " 'no',\n",
              " 'podr',\n",
              " 'ser',\n",
              " 'm',\n",
              " 'c',\n",
              " 'nor',\n",
              " 'a',\n",
              " 'la',\n",
              " 'esta',\n",
              " 'blecida',\n",
              " 'originalmente',\n",
              " 'en',\n",
              " 'la',\n",
              " 'pliza',\n",
              " 'ni',\n",
              " 'podrjscr',\n",
              " 'objeto',\n",
              " 'de',\n",
              " 'ojustes',\n",
              " 'de',\n",
              " 'nrgun',\n",
              " 'tipo',\n",
              " 'por',\n",
              " 'lo',\n",
              " 'pagado',\n",
              " 'en',\n",
              " 'exceso',\n",
              " 'i',\n",
              " 'en',\n",
              " 'un',\n",
              " 'plazo',\n",
              " 'de',\n",
              " 'cico',\n",
              " 'das',\n",
              " 'hbiles',\n",
              " 'contados',\n",
              " 'a',\n",
              " 'p',\n",
              " 'lr',\n",
              " 'le',\n",
              " 'la',\n",
              " 'recepcin',\n",
              " 'de',\n",
              " 'este',\n",
              " 'oficio',\n",
              " 'esa',\n",
              " 'compaia',\n",
              " 'deber',\n",
              " 'enjij',\n",
              " 'una',\n",
              " 'carta',\n",
              " 'al',\n",
              " 'afiliado',\n",
              " 'comnicando',\n",
              " 'la',\n",
              " 'restitucin',\n",
              " 'de',\n",
              " 'la',\n",
              " 'beneficiarla',\n",
              " 'en',\n",
              " 'calidad',\n",
              " 'de',\n",
              " 'madre',\n",
              " 'de',\n",
              " 'lijo',\n",
              " 'de',\n",
              " 'filiacin',\n",
              " 'no',\n",
              " 'matrirtiohial',\n",
              " 'sin',\n",
              " 'hijos',\n",
              " 'con',\n",
              " 'derecho',\n",
              " 'pnin',\n",
              " 'indicando',\n",
              " 'adems',\n",
              " 'el',\n",
              " 'morito',\n",
              " 'de',\n",
              " 'pensin',\n",
              " 'a',\n",
              " 'pagar',\n",
              " 'junto',\n",
              " 'con',\n",
              " 'explicarle',\n",
              " 'qu',\n",
              " 'sucedi',\n",
              " 'eti',\n",
              " 'ste',\n",
              " 'caso',\n",
              " 'junto',\n",
              " 'con',\n",
              " 'la',\n",
              " 'exjlcin',\n",
              " 'de',\n",
              " 'lo',\n",
              " 'acontecido',\n",
              " 'en',\n",
              " 'est',\n",
              " 'caso',\n",
              " 'como',\n",
              " 'respuesta',\n",
              " 'al',\n",
              " 'presente',\n",
              " 'oficio',\n",
              " 'esa',\n",
              " 'compaa',\n",
              " 'llen',\n",
              " 'adjuntar',\n",
              " 'copia',\n",
              " 'de',\n",
              " 'la',\n",
              " 'e',\n",
              " 'rt',\n",
              " 'tviada',\n",
              " 'al',\n",
              " 'rentista',\n",
              " 'la',\n",
              " 'respuestj',\n",
              " 'al',\n",
              " 'oficio',\n",
              " 'debe',\n",
              " 'ser',\n",
              " 'realizada',\n",
              " 'a',\n",
              " 'ms',\n",
              " 'tdrdar',\n",
              " 'el',\n",
              " 'r',\n",
              " 'saluda',\n",
              " 'atentamente',\n",
              " 'a',\n",
              " 'usted',\n",
              " 'trnisiuoz',\n",
              " 'c',\n",
              " 'pordend',\n",
              " 's',\n",
              " 'i',\n",
              " 'ente',\n",
              " 'archivo',\n",
              " 'anexo',\n",
              " 'ilf',\n",
              " 'sgdi',\n",
              " 'ift',\n",
              " 'fil']"
            ]
          },
          "metadata": {
            "tags": []
          },
          "execution_count": 31
        }
      ]
    },
    {
      "cell_type": "markdown",
      "metadata": {
        "id": "w3oa5vfWYFfh"
      },
      "source": [
        "Otra posible forma de remover tildes"
      ]
    },
    {
      "cell_type": "code",
      "metadata": {
        "collapsed": true,
        "id": "3mII9ApvYFfi"
      },
      "source": [
        "def tildeRemover(text):\n",
        "    try:\n",
        "#         text = text.lower()\n",
        "        text = text.replace('á','a')\n",
        "        text = text.replace('é','e')\n",
        "        text = text.replace('í','i')\n",
        "        text = text.replace('ó','o')\n",
        "        text = text.replace('ú','u')\n",
        "        return text\n",
        "    except:\n",
        "        return text"
      ],
      "execution_count": null,
      "outputs": []
    },
    {
      "cell_type": "code",
      "metadata": {
        "id": "gaKVALbQYFfj",
        "outputId": "e59a2e4c-b528-4537-93eb-d3ef72465e31"
      },
      "source": [
        "v4 = []\n",
        "for i in range(len(v22)): \n",
        "    v4.append(tildeRemover(v22[i]))\n",
        "v4"
      ],
      "execution_count": null,
      "outputs": [
        {
          "output_type": "execute_result",
          "data": {
            "text/plain": [
              "['supcjtl',\n",
              " 'liekfl',\n",
              " 'valr',\n",
              " 'ysegll',\n",
              " 'ltu',\n",
              " 'oford',\n",
              " 'n',\n",
              " 'oficio',\n",
              " 'n',\n",
              " 'de',\n",
              " 'de',\n",
              " 'la',\n",
              " 'an',\n",
              " 'ecedentes',\n",
              " 'superintendencia',\n",
              " 'de',\n",
              " 'pensiones',\n",
              " 'i',\n",
              " 'instruye',\n",
              " 'reincorporacin',\n",
              " 'de',\n",
              " 'beneficiaria',\n",
              " 'pensin',\n",
              " 'materia',\n",
              " 'de',\n",
              " 'sobrevivencia',\n",
              " 'sgd',\n",
              " 'n',\n",
              " 'santiago',\n",
              " 'ode',\n",
              " 'marzo',\n",
              " 'de',\n",
              " 'de',\n",
              " 'superintendenjia',\n",
              " 'de',\n",
              " 'valores',\n",
              " 'y',\n",
              " 'seguros',\n",
              " 'a',\n",
              " 'seguros',\n",
              " 'de',\n",
              " 'vida',\n",
              " 's',\n",
              " 'el',\n",
              " 'bosque',\n",
              " 'norte',\n",
              " 'las',\n",
              " 'condes',\n",
              " 'fcomuna',\n",
              " 'santiago',\n",
              " 'ciudad',\n",
              " 'santiago',\n",
              " 'reg',\n",
              " 'me',\n",
              " 'rrolitana',\n",
              " 'it',\n",
              " 'i',\n",
              " 'se',\n",
              " 'ha',\n",
              " 'recibido',\n",
              " 'el',\n",
              " 'oficio',\n",
              " 'del',\n",
              " 'antecedente',\n",
              " 'el',\n",
              " 'cual',\n",
              " 'se',\n",
              " 'djuntu',\n",
              " 'en',\n",
              " 'que',\n",
              " 'la',\n",
              " 'superintendencia',\n",
              " 'de',\n",
              " 'pensiones',\n",
              " 'seal',\n",
              " 'que',\n",
              " 'la',\n",
              " 'afp',\n",
              " 'ilabitat',\n",
              " 'y',\n",
              " 'esa',\n",
              " 'asegradora',\n",
              " 'incurrieron',\n",
              " 'en',\n",
              " 'un',\n",
              " 'errbr',\n",
              " 'l',\n",
              " 'eliminar',\n",
              " 'de',\n",
              " 'la',\n",
              " 'pliza',\n",
              " 'de',\n",
              " 'renta',\n",
              " 'vitalicia',\n",
              " 'previsionalld',\n",
              " 'el',\n",
              " 'sr',\n",
              " 'l',\n",
              " 'f',\n",
              " 'a',\n",
              " 'lalbefieficiaria',\n",
              " 'de',\n",
              " 'pensin',\n",
              " 'de',\n",
              " 'sobrevivencia',\n",
              " 'sra',\n",
              " 'i',\n",
              " 'i',\n",
              " 'y',\n",
              " 'iue',\n",
              " 'en',\n",
              " 'consecuencia',\n",
              " 'sta',\n",
              " 'debb',\n",
              " 'ser',\n",
              " 'restituida',\n",
              " 'en',\n",
              " 'calidad',\n",
              " 'de',\n",
              " 'beneficiaria',\n",
              " 'como',\n",
              " 'madr',\n",
              " 'de',\n",
              " 'hijo',\n",
              " 'de',\n",
              " 'filiacin',\n",
              " 'no',\n",
              " 'fyfatri',\n",
              " 'onial',\n",
              " 'debido',\n",
              " 'a',\n",
              " 'que',\n",
              " 'su',\n",
              " 'matrirnbnib',\n",
              " 'fue',\n",
              " 'declarado',\n",
              " 'nulo',\n",
              " 'por',\n",
              " 'sentencia',\n",
              " 'ejecutoriada',\n",
              " 'de',\n",
              " 'fecfi',\n",
              " 'aprobada',\n",
              " 'el',\n",
              " 'js',\n",
              " 'con',\n",
              " 'fecha',\n",
              " 'de',\n",
              " 'subinsdripbin',\n",
              " 'situacin',\n",
              " 'anterior',\n",
              " 'a',\n",
              " 'la',\n",
              " 'aplicacin',\n",
              " 'id',\n",
              " 'la',\n",
              " 'ley',\n",
              " 'de',\n",
              " 'matrimonio',\n",
              " 'c',\n",
              " 'ivil',\n",
              " 'ley',\n",
              " 'i',\n",
              " 'por',\n",
              " 'tratarse',\n",
              " 'de',\n",
              " 'un',\n",
              " 'tene',\n",
              " 'icio',\n",
              " 'contemplado',\n",
              " 'en',\n",
              " 'la',\n",
              " 'lfy',\n",
              " 'esa',\n",
              " 'aseguraora',\n",
              " 'deber',\n",
              " 'reincorporar',\n",
              " 'de',\n",
              " 'inmediato',\n",
              " 'al',\n",
              " 'eneficiaria',\n",
              " 'a',\n",
              " 'ja',\n",
              " 'pliza',\n",
              " 'de',\n",
              " 'nt',\n",
              " 'yitalicia',\n",
              " 'en',\n",
              " 'calidad',\n",
              " 'de',\n",
              " 'madre',\n",
              " 'e',\n",
              " 'ijijo',\n",
              " 'de',\n",
              " 'filiain',\n",
              " 'no',\n",
              " 'matrimonial',\n",
              " 'sin',\n",
              " 'hijos',\n",
              " 'con',\n",
              " 'derecho',\n",
              " 'pensin',\n",
              " 'en',\n",
              " 'los',\n",
              " 'mismos',\n",
              " 'trm',\n",
              " 'inr',\n",
              " 'que',\n",
              " 'figuraba',\n",
              " 'en',\n",
              " 'la',\n",
              " 'pliza',\n",
              " 'jriirl',\n",
              " 'i',\n",
              " 'por',\n",
              " 'su',\n",
              " 'pllrte',\n",
              " 'tap',\n",
              " 'e',\n",
              " 'sin',\n",
              " 'del',\n",
              " 'afiliado',\n",
              " 'no',\n",
              " 'podr',\n",
              " 'ser',\n",
              " 'm',\n",
              " 'c',\n",
              " 'nor',\n",
              " 'a',\n",
              " 'la',\n",
              " 'esta',\n",
              " 'blecida',\n",
              " 'originalmente',\n",
              " 'en',\n",
              " 'la',\n",
              " 'pliza',\n",
              " 'ni',\n",
              " 'podrjscr',\n",
              " 'objeto',\n",
              " 'de',\n",
              " 'ojustes',\n",
              " 'de',\n",
              " 'nrgun',\n",
              " 'tipo',\n",
              " 'por',\n",
              " 'lo',\n",
              " 'pagado',\n",
              " 'en',\n",
              " 'exceso',\n",
              " 'i',\n",
              " 'en',\n",
              " 'un',\n",
              " 'plazo',\n",
              " 'de',\n",
              " 'cico',\n",
              " 'das',\n",
              " 'hbiles',\n",
              " 'contados',\n",
              " 'a',\n",
              " 'p',\n",
              " 'lr',\n",
              " 'le',\n",
              " 'la',\n",
              " 'recepcin',\n",
              " 'de',\n",
              " 'este',\n",
              " 'oficio',\n",
              " 'esa',\n",
              " 'compaia',\n",
              " 'deber',\n",
              " 'enjij',\n",
              " 'una',\n",
              " 'carta',\n",
              " 'al',\n",
              " 'afiliado',\n",
              " 'comnicando',\n",
              " 'la',\n",
              " 'restitucin',\n",
              " 'de',\n",
              " 'la',\n",
              " 'beneficiarla',\n",
              " 'en',\n",
              " 'calidad',\n",
              " 'de',\n",
              " 'madre',\n",
              " 'de',\n",
              " 'lijo',\n",
              " 'de',\n",
              " 'filiacin',\n",
              " 'no',\n",
              " 'matrirtiohial',\n",
              " 'sin',\n",
              " 'hijos',\n",
              " 'con',\n",
              " 'derecho',\n",
              " 'pnin',\n",
              " 'indicando',\n",
              " 'adems',\n",
              " 'el',\n",
              " 'morito',\n",
              " 'de',\n",
              " 'pensin',\n",
              " 'a',\n",
              " 'pagar',\n",
              " 'junto',\n",
              " 'con',\n",
              " 'explicarle',\n",
              " 'qu',\n",
              " 'sucedi',\n",
              " 'eti',\n",
              " 'ste',\n",
              " 'caso',\n",
              " 'junto',\n",
              " 'con',\n",
              " 'la',\n",
              " 'exjlcin',\n",
              " 'de',\n",
              " 'lo',\n",
              " 'acontecido',\n",
              " 'en',\n",
              " 'est',\n",
              " 'caso',\n",
              " 'como',\n",
              " 'respuesta',\n",
              " 'al',\n",
              " 'presente',\n",
              " 'oficio',\n",
              " 'esa',\n",
              " 'compaa',\n",
              " 'llen',\n",
              " 'adjuntar',\n",
              " 'copia',\n",
              " 'de',\n",
              " 'la',\n",
              " 'e',\n",
              " 'rt',\n",
              " 'tviada',\n",
              " 'al',\n",
              " 'rentista',\n",
              " 'la',\n",
              " 'respuestj',\n",
              " 'al',\n",
              " 'oficio',\n",
              " 'debe',\n",
              " 'ser',\n",
              " 'realizada',\n",
              " 'a',\n",
              " 'ms',\n",
              " 'tdrdar',\n",
              " 'el',\n",
              " 'r',\n",
              " 'saluda',\n",
              " 'atentamente',\n",
              " 'a',\n",
              " 'usted',\n",
              " 'trnisiuoz',\n",
              " 'c',\n",
              " 'pordend',\n",
              " 's',\n",
              " 'i',\n",
              " 'ente',\n",
              " 'archivo',\n",
              " 'anexo',\n",
              " 'ilf',\n",
              " 'sgdi',\n",
              " 'ift',\n",
              " 'fil']"
            ]
          },
          "metadata": {
            "tags": []
          },
          "execution_count": 33
        }
      ]
    },
    {
      "cell_type": "markdown",
      "metadata": {
        "id": "7ugdcSLrYFfj"
      },
      "source": [
        "Claramente necesitamos más procesamiento para estudiar este archivo!"
      ]
    },
    {
      "cell_type": "code",
      "metadata": {
        "id": "HLO6w8H4YFfv",
        "outputId": "f5874175-3efc-4d69-ee13-0f9cb1561971"
      },
      "source": [
        "import matplotlib.pyplot as plt\n",
        "from wordcloud import WordCloud\n",
        "wordcloud = WordCloud(max_font_size=50, max_words=100, background_color=\"white\").generate(str(v4))\n",
        "plt.figure()\n",
        "plt.imshow(wordcloud, interpolation=\"bilinear\")\n",
        "plt.axis(\"off\")\n",
        "plt.show()"
      ],
      "execution_count": null,
      "outputs": [
        {
          "output_type": "display_data",
          "data": {
            "image/png": "[encoded data removed]",
            "text/plain": [
              "<Figure size 432x288 with 1 Axes>"
            ]
          },
          "metadata": {
            "tags": []
          }
        }
      ]
    },
    {
      "cell_type": "markdown",
      "metadata": {
        "id": "2pJeVgrMYFfw"
      },
      "source": [
        "Usando la clase pasada, pueden sacar los símbolos no-numéricos y stopwords?"
      ]
    }
  ]
}
